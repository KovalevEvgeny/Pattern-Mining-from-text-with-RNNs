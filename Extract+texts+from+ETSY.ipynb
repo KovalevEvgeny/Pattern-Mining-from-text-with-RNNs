{
 "cells": [
  {
   "cell_type": "code",
   "execution_count": 2,
   "metadata": {
    "collapsed": true
   },
   "outputs": [],
   "source": [
    "import requests\n",
    "from bs4 import BeautifulSoup\n",
    "from user_agent import generate_user_agent\n",
    "import json\n",
    "import pandas as pd\n",
    "import numpy as np\n",
    "import time"
   ]
  },
  {
   "cell_type": "code",
   "execution_count": 172,
   "metadata": {
    "collapsed": true
   },
   "outputs": [],
   "source": [
    "API_KEY = '5ecsu0fplms4n2djv646eog3'"
   ]
  },
  {
   "cell_type": "code",
   "execution_count": 173,
   "metadata": {
    "collapsed": true
   },
   "outputs": [],
   "source": [
    "url = \"https://openapi.etsy.com/v2/listings/567419184/?api_key=5ecsu0fplms4n2djv646eog3\""
   ]
  },
  {
   "cell_type": "markdown",
   "metadata": {},
   "source": [
    "# Get description of item"
   ]
  },
  {
   "cell_type": "code",
   "execution_count": 174,
   "metadata": {
    "collapsed": true
   },
   "outputs": [],
   "source": [
    "r = requests.get(url, headers={'User-agent':generate_user_agent()})"
   ]
  },
  {
   "cell_type": "code",
   "execution_count": 175,
   "metadata": {
    "collapsed": true
   },
   "outputs": [],
   "source": [
    "def get_description(item_id):\n",
    "    API_KEY = '5ecsu0fplms4n2djv646eog3'\n",
    "    url = \"https://openapi.etsy.com/v2/listings/\" + item_id + \"/?api_key=\" + API_KEY\n",
    "    r = requests.get(url, headers={'User-agent':generate_user_agent()})\n",
    "    description = json.loads(r.text)['results'][0]['description']\n",
    "    return description"
   ]
  },
  {
   "cell_type": "code",
   "execution_count": 176,
   "metadata": {},
   "outputs": [
    {
     "data": {
      "text/plain": [
       "'A rattle with peas is a traditional rattle consisting of a ball (3 cm in diameter) filled with peas on a beech stick having three little linden balls. When the baby shakes the rattle, it makes a gentle clacking sound. A unique gift for new parents and their new little ones. Sanded perfectly smooth and covered with linseed oil.\\n\\nMATERIALS: beech, linden, peas. \\nLENGTH - 5.1 inch (13 cm)\\n100% handmade.\\n\\nOur toys help to develop:\\n-\\tfine motion and speaking skills;\\n-\\timagination and creativity;\\n-\\ttaste for beauty and love for Nature.\\n\\nAGE: 0+ YEAR\\n\\nCraft paper bag included.\\n\\nThank you for your visit!\\nSee other natural wooden toys https://www.etsy.com/shop/tinyfoxhole\\n\\nWooden toys fill our children with live energy and warmth because they are made of a magic natural material - wood. Being hand-carved and hand-painted the toys have individual peculiarities, they help to inculcate in children a taste for natural beauty. Wooden toys are simple, but through simple shapes they help children to discover their own creativity, use their imagination to the full and compose endless number of games. \\n\\nNOTE: \\n• All of our toys are made from organic, natural materials and non-toxic child safe finishes and paints. \\n• This item is handmade and may be slightly different in wood grain and tone from what you see in pictures, you get a unique piece!'"
      ]
     },
     "execution_count": 176,
     "metadata": {},
     "output_type": "execute_result"
    }
   ],
   "source": [
    "id_ = '567419184'\n",
    "get_description(id_)"
   ]
  },
  {
   "cell_type": "markdown",
   "metadata": {},
   "source": [
    "# Get a full DataFrame of items and descriptions"
   ]
  },
  {
   "cell_type": "code",
   "execution_count": 3,
   "metadata": {},
   "outputs": [],
   "source": [
    "df = pd.DataFrame(columns=['id', 'category_id', 'description'])\n",
    "k = 0\n",
    "for offset in [100*j for j in range(100)]:\n",
    "    try:\n",
    "        url = \"https://openapi.etsy.com/v2/listings/active?limit=100&offset=\" + str(offset) + \"&api_key=5ecsu0fplms4n2djv646eog3\"\n",
    "        r = requests.get(url, headers={'User-agent':generate_user_agent()})\n",
    "        time.sleep(0.2)\n",
    "        try:\n",
    "            for i in json.loads(r.text)['results']:\n",
    "                df.loc[k] = [i['listing_id'], i['category_id'], i['description']]\n",
    "                k += 1\n",
    "        except:\n",
    "            pass\n",
    "    except:\n",
    "        pass"
   ]
  },
  {
   "cell_type": "code",
   "execution_count": 204,
   "metadata": {},
   "outputs": [
    {
     "data": {
      "text/html": [
       "<div>\n",
       "<style>\n",
       "    .dataframe thead tr:only-child th {\n",
       "        text-align: right;\n",
       "    }\n",
       "\n",
       "    .dataframe thead th {\n",
       "        text-align: left;\n",
       "    }\n",
       "\n",
       "    .dataframe tbody tr th {\n",
       "        vertical-align: top;\n",
       "    }\n",
       "</style>\n",
       "<table border=\"1\" class=\"dataframe\">\n",
       "  <thead>\n",
       "    <tr style=\"text-align: right;\">\n",
       "      <th></th>\n",
       "      <th>id</th>\n",
       "      <th>category_id</th>\n",
       "      <th>description</th>\n",
       "    </tr>\n",
       "  </thead>\n",
       "  <tbody>\n",
       "    <tr>\n",
       "      <th>9995</th>\n",
       "      <td>685953037</td>\n",
       "      <td>68930522</td>\n",
       "      <td>Collants fantaisies, collants, collants bicolo...</td>\n",
       "    </tr>\n",
       "    <tr>\n",
       "      <th>9996</th>\n",
       "      <td>674799260</td>\n",
       "      <td>68891842</td>\n",
       "      <td>downloadable files:\\n\\n1 EPS\\n1 SVG\\n1 PDF\\n1 PNG</td>\n",
       "    </tr>\n",
       "    <tr>\n",
       "      <th>9997</th>\n",
       "      <td>672933953</td>\n",
       "      <td>68892008</td>\n",
       "      <td>Keep this door hanger up all-year-round and Ce...</td>\n",
       "    </tr>\n",
       "    <tr>\n",
       "      <th>9998</th>\n",
       "      <td>163289310</td>\n",
       "      <td>68892008</td>\n",
       "      <td>These wood effect plaques are perfect for room...</td>\n",
       "    </tr>\n",
       "    <tr>\n",
       "      <th>9999</th>\n",
       "      <td>646107801</td>\n",
       "      <td>68933546</td>\n",
       "      <td>This gorgeous baby body suit makes the perfect...</td>\n",
       "    </tr>\n",
       "  </tbody>\n",
       "</table>\n",
       "</div>"
      ],
      "text/plain": [
       "             id category_id                                        description\n",
       "9995  685953037    68930522  Collants fantaisies, collants, collants bicolo...\n",
       "9996  674799260    68891842  downloadable files:\\n\\n1 EPS\\n1 SVG\\n1 PDF\\n1 PNG\n",
       "9997  672933953    68892008  Keep this door hanger up all-year-round and Ce...\n",
       "9998  163289310    68892008  These wood effect plaques are perfect for room...\n",
       "9999  646107801    68933546  This gorgeous baby body suit makes the perfect..."
      ]
     },
     "execution_count": 204,
     "metadata": {},
     "output_type": "execute_result"
    }
   ],
   "source": [
    "df.tail()"
   ]
  },
  {
   "cell_type": "code",
   "execution_count": 203,
   "metadata": {},
   "outputs": [
    {
     "data": {
      "text/plain": [
       "(10000, 3)"
      ]
     },
     "execution_count": 203,
     "metadata": {},
     "output_type": "execute_result"
    }
   ],
   "source": [
    "df.shape"
   ]
  },
  {
   "cell_type": "code",
   "execution_count": 190,
   "metadata": {},
   "outputs": [
    {
     "data": {
      "text/html": [
       "<div>\n",
       "<style>\n",
       "    .dataframe thead tr:only-child th {\n",
       "        text-align: right;\n",
       "    }\n",
       "\n",
       "    .dataframe thead th {\n",
       "        text-align: left;\n",
       "    }\n",
       "\n",
       "    .dataframe tbody tr th {\n",
       "        vertical-align: top;\n",
       "    }\n",
       "</style>\n",
       "<table border=\"1\" class=\"dataframe\">\n",
       "  <thead>\n",
       "    <tr style=\"text-align: right;\">\n",
       "      <th></th>\n",
       "      <th>id</th>\n",
       "      <th>category_id</th>\n",
       "      <th>description</th>\n",
       "    </tr>\n",
       "  </thead>\n",
       "  <tbody>\n",
       "    <tr>\n",
       "      <th>0</th>\n",
       "      <td>691073911</td>\n",
       "      <td>69150433</td>\n",
       "      <td>1.47 ct Round shape Brilliant cut Black Color ...</td>\n",
       "    </tr>\n",
       "    <tr>\n",
       "      <th>1</th>\n",
       "      <td>691073895</td>\n",
       "      <td>69150433</td>\n",
       "      <td>This item contain one zip with the design in d...</td>\n",
       "    </tr>\n",
       "    <tr>\n",
       "      <th>2</th>\n",
       "      <td>691073889</td>\n",
       "      <td>69152975</td>\n",
       "      <td>VAPOR1995 Vintage Clothing!\\n\\nShipping is fro...</td>\n",
       "    </tr>\n",
       "    <tr>\n",
       "      <th>3</th>\n",
       "      <td>474004522</td>\n",
       "      <td>68933642</td>\n",
       "      <td>Personalised Black Wedding Socks with a No Col...</td>\n",
       "    </tr>\n",
       "    <tr>\n",
       "      <th>4</th>\n",
       "      <td>599059894</td>\n",
       "      <td>69151501</td>\n",
       "      <td>Gemstones Specification :\\nSapphire:\\nSapphire...</td>\n",
       "    </tr>\n",
       "  </tbody>\n",
       "</table>\n",
       "</div>"
      ],
      "text/plain": [
       "          id category_id                                        description\n",
       "0  691073911    69150433  1.47 ct Round shape Brilliant cut Black Color ...\n",
       "1  691073895    69150433  This item contain one zip with the design in d...\n",
       "2  691073889    69152975  VAPOR1995 Vintage Clothing!\\n\\nShipping is fro...\n",
       "3  474004522    68933642  Personalised Black Wedding Socks with a No Col...\n",
       "4  599059894    69151501  Gemstones Specification :\\nSapphire:\\nSapphire..."
      ]
     },
     "execution_count": 190,
     "metadata": {},
     "output_type": "execute_result"
    }
   ],
   "source": [
    "df.head()"
   ]
  },
  {
   "cell_type": "code",
   "execution_count": 205,
   "metadata": {},
   "outputs": [
    {
     "data": {
      "text/plain": [
       "'Shipping Time: 1-3 weekdays\\n\\n\\nFabric: Jersey/cotton Jersey\\n\\nPattern: Cool Boards of blueberry star/stripes\\n\\nColor: Blue/Grey\\n\\nLength: 50 cm (Quantity 1), 100 cm (quantity 2), etc. The purchased fabric length is of course\\nCut at the piece\\nIf more material is desired than set, please contact me absolutely\\nBefore the purchase so I can increase the number of pieces.\\nSubsequently, neither quantity nor total amount can be changed.\\n\\n\\nWidth: 145 cm\\n\\nComposition: 95% cotton, 5% elastane\\n\\nCertification: Öko Tex Standard 100\\n\\n—————————————————————————————————————————\\n\\nShipping Time: 1-3 weekdays\\n\\nThe delivery time refers to a delivery within Germany.\\n\\nAfter receiving money I send the parcel with DHL\\n\\nThe order is subject to an invoice with a sales tax.'"
      ]
     },
     "execution_count": 205,
     "metadata": {},
     "output_type": "execute_result"
    }
   ],
   "source": [
    "df.iloc[20]['description']"
   ]
  },
  {
   "cell_type": "code",
   "execution_count": 206,
   "metadata": {
    "collapsed": true
   },
   "outputs": [],
   "source": [
    "df.to_csv('etsy_dataset.csv')"
   ]
  }
 ],
 "metadata": {
  "kernelspec": {
   "display_name": "Python 3",
   "language": "python",
   "name": "python3"
  },
  "language_info": {
   "codemirror_mode": {
    "name": "ipython",
    "version": 3
   },
   "file_extension": ".py",
   "mimetype": "text/x-python",
   "name": "python",
   "nbconvert_exporter": "python",
   "pygments_lexer": "ipython3",
   "version": "3.6.8"
  }
 },
 "nbformat": 4,
 "nbformat_minor": 2
}
