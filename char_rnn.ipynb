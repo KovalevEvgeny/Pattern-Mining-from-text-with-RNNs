{
 "cells": [
  {
   "cell_type": "code",
   "execution_count": 2,
   "metadata": {
    "collapsed": true
   },
   "outputs": [],
   "source": [
    "import matplotlib.pyplot as plt\n",
    "import numpy as np\n",
    "import pandas as pd\n",
    "import random\n",
    "import torch\n",
    "import torch.nn as nn\n",
    "import torch.nn.functional as F\n",
    "import torch.utils.data as utils\n",
    "from collections import Counter, OrderedDict\n",
    "from IPython import display\n",
    "from tqdm import trange, tqdm, tqdm_notebook\n",
    "\n",
    "%matplotlib inline"
   ]
  },
  {
   "cell_type": "code",
   "execution_count": 3,
   "metadata": {},
   "outputs": [
    {
     "name": "stdout",
     "output_type": "stream",
     "text": [
      "cuda:0\n"
     ]
    }
   ],
   "source": [
    "device = torch.device(\"cuda:0\" if torch.cuda.is_available() else \"cpu\")\n",
    "print(device)"
   ]
  },
  {
   "cell_type": "code",
   "execution_count": 4,
   "metadata": {
    "collapsed": true
   },
   "outputs": [],
   "source": [
    "data = pd.read_csv('data_etsy.csv').drop('Unnamed: 0', axis=1)"
   ]
  },
  {
   "cell_type": "code",
   "execution_count": 5,
   "metadata": {},
   "outputs": [
    {
     "data": {
      "text/html": [
       "<div>\n",
       "<style scoped>\n",
       "    .dataframe tbody tr th:only-of-type {\n",
       "        vertical-align: middle;\n",
       "    }\n",
       "\n",
       "    .dataframe tbody tr th {\n",
       "        vertical-align: top;\n",
       "    }\n",
       "\n",
       "    .dataframe thead th {\n",
       "        text-align: right;\n",
       "    }\n",
       "</style>\n",
       "<table border=\"1\" class=\"dataframe\">\n",
       "  <thead>\n",
       "    <tr style=\"text-align: right;\">\n",
       "      <th></th>\n",
       "      <th>id</th>\n",
       "      <th>description</th>\n",
       "    </tr>\n",
       "  </thead>\n",
       "  <tbody>\n",
       "    <tr>\n",
       "      <th>0</th>\n",
       "      <td>116574664</td>\n",
       "      <td>THIS LISTING IS FOR ONE DIGITAL PDF VERSION OF...</td>\n",
       "    </tr>\n",
       "    <tr>\n",
       "      <th>1</th>\n",
       "      <td>687895649</td>\n",
       "      <td>This is 2 Two US Buffalo / Indian Head Nickels...</td>\n",
       "    </tr>\n",
       "    <tr>\n",
       "      <th>2</th>\n",
       "      <td>624841393</td>\n",
       "      <td>Dichroic Earrings  - Orange Yellow Gold Blue G...</td>\n",
       "    </tr>\n",
       "    <tr>\n",
       "      <th>3</th>\n",
       "      <td>687895641</td>\n",
       "      <td>.SVG, .EPS, .PNG, .PDF, .DXF and .JPG Instant ...</td>\n",
       "    </tr>\n",
       "    <tr>\n",
       "      <th>4</th>\n",
       "      <td>650279436</td>\n",
       "      <td>Make your bathroom from drab to fabulous with ...</td>\n",
       "    </tr>\n",
       "  </tbody>\n",
       "</table>\n",
       "</div>"
      ],
      "text/plain": [
       "          id                                        description\n",
       "0  116574664  THIS LISTING IS FOR ONE DIGITAL PDF VERSION OF...\n",
       "1  687895649  This is 2 Two US Buffalo / Indian Head Nickels...\n",
       "2  624841393  Dichroic Earrings  - Orange Yellow Gold Blue G...\n",
       "3  687895641  .SVG, .EPS, .PNG, .PDF, .DXF and .JPG Instant ...\n",
       "4  650279436  Make your bathroom from drab to fabulous with ..."
      ]
     },
     "execution_count": 5,
     "metadata": {},
     "output_type": "execute_result"
    }
   ],
   "source": [
    "data.head()"
   ]
  },
  {
   "cell_type": "code",
   "execution_count": 6,
   "metadata": {},
   "outputs": [
    {
     "data": {
      "text/plain": [
       "(3000, 2)"
      ]
     },
     "execution_count": 6,
     "metadata": {},
     "output_type": "execute_result"
    }
   ],
   "source": [
    "data.shape"
   ]
  },
  {
   "cell_type": "code",
   "execution_count": 7,
   "metadata": {
    "collapsed": true
   },
   "outputs": [],
   "source": [
    "texts = data['description']"
   ]
  },
  {
   "cell_type": "code",
   "execution_count": 8,
   "metadata": {},
   "outputs": [
    {
     "data": {
      "text/plain": [
       "0    THIS LISTING IS FOR ONE DIGITAL PDF VERSION OF...\n",
       "1    This is 2 Two US Buffalo / Indian Head Nickels...\n",
       "2    Dichroic Earrings  - Orange Yellow Gold Blue G...\n",
       "3    .SVG, .EPS, .PNG, .PDF, .DXF and .JPG Instant ...\n",
       "4    Make your bathroom from drab to fabulous with ...\n",
       "Name: description, dtype: object"
      ]
     },
     "execution_count": 8,
     "metadata": {},
     "output_type": "execute_result"
    }
   ],
   "source": [
    "texts[:5]"
   ]
  },
  {
   "cell_type": "code",
   "execution_count": 9,
   "metadata": {
    "collapsed": true
   },
   "outputs": [],
   "source": [
    "start_token = '¿'\n",
    "end_token = '¡'\n",
    "texts = list(map(lambda t: start_token + t + end_token, texts))"
   ]
  },
  {
   "cell_type": "code",
   "execution_count": 10,
   "metadata": {},
   "outputs": [
    {
     "data": {
      "image/png": "[encoded data removed]",
      "text/plain": [
       "<Figure size 1152x504 with 1 Axes>"
      ]
     },
     "metadata": {},
     "output_type": "display_data"
    },
    {
     "name": "stdout",
     "output_type": "stream",
     "text": [
      "Wall time: 26.1 s\n"
     ]
    }
   ],
   "source": [
    "%%time\n",
    "letters = sum([list(t) for t in texts], [])\n",
    "letters_count = OrderedDict(sorted(Counter(letters).items(), key=lambda x: x[1], reverse=True))\n",
    "\n",
    "n = 50\n",
    "\n",
    "plt.figure(figsize=(16,7))\n",
    "plt.title('Symbols distribution')\n",
    "plt.bar(range(n), list(letters_count.values())[:n], align='center')\n",
    "plt.xticks(range(n), list(letters_count.keys())[:n])\n",
    "plt.show()"
   ]
  },
  {
   "cell_type": "code",
   "execution_count": 11,
   "metadata": {},
   "outputs": [
    {
     "name": "stdout",
     "output_type": "stream",
     "text": [
      "max length = 11786\n"
     ]
    },
    {
     "data": {
      "image/png": "[encoded data removed]",
      "text/plain": [
       "<Figure size 1152x504 with 1 Axes>"
      ]
     },
     "metadata": {},
     "output_type": "display_data"
    }
   ],
   "source": [
    "MAX_LENGTH = max(map(len,texts))\n",
    "print(\"max length =\", MAX_LENGTH)\n",
    "\n",
    "plt.figure(figsize=(16,7))\n",
    "plt.title('Sequence length distribution')\n",
    "plt.hist(list(map(len,texts)), bins=25)\n",
    "plt.show()"
   ]
  },
  {
   "cell_type": "code",
   "execution_count": 12,
   "metadata": {},
   "outputs": [
    {
     "name": "stdout",
     "output_type": "stream",
     "text": [
      "There are {} tokens 471\n",
      "Vocabular: ¿¡\u0003\t\n",
      " !\"#$%&()*+,-./0123456789:;=?@ABCDEFGHIJKLMNOPQRSTUVWXYZ[\\]^_`abcdefghijklmnopqrstuvwxyz{|}~ ¢£¤§¨©®¯°±²´·¸º»¼½¾ÄÇÓÖ×ÜßàáâäæçèéêíîñóôõöøúüİıĸœΕΚΨαινσυωСТвемнстхяєѕғ֍۩ૐஐ๑ღ    ​‍–—―‘’“”„•‣… ",
      "‬‭″›⁞€℃ℓ№™ℴℹ⅛⅜⅞→↓↜↝↣⇐⇒−∗∙≈≔≕≪≫⋅⏩①②③ⓔⓛⓞⓥ─━═▄▐░■▪▬▲▶▷▸►▼◀◄◆◈◊○●◘◙◻◼◾★☆☑☛☝☞☹☺☼☽♛♡♥♦♪♫⚑⚓⚠⚤⚫✂✃✄✅✈✉✋✍✓✔✘✣✤✦✧✨✩✪✮✯✱✶✷✿❀❄❊❑❘❙❚❣❤❥➔➜➝➡➤➫➳➽⤸⫷⫸⭐【】〰・︎️︱！，：＠𝐀𝐁𝐂𝐃𝐄𝐆𝐇𝐈𝐊𝐋𝐌𝐍𝐎𝐏𝐑𝐒𝐓𝐔𝐖𝐗𝐘𝐙𝐚𝐜𝐝𝐞𝐟𝐠𝐡𝐢𝐥𝐦𝐧𝐨𝐩𝐪𝐫𝐬𝐭𝐮𝐯𝐱𝐲𝐳𝗔𝗕𝗖𝗗𝗘𝗙𝗛𝗜𝗡𝗢𝗣𝗥𝗦𝗧𝗨𝗪𝗬🅰🅲🅳🅾🅿🆁🆂🆃🆄🌊🌜🌟🌴🌵🌹🌺🌿🍭🍵🎀🎁🎈🎉🎗🎨🏻👀👉👋👌👍👜👦👨👩💃💌💎💕💖💗💚💛💝💬💮💰📄📍📏📝📣📤📥📦📧📨🔍🔔🔸😃😉😊😘🚫🛁🛒🡻🤙🧢\n"
     ]
    }
   ],
   "source": [
    "# tokens <-> indices\n",
    "    \n",
    "tokens = [start_token, end_token] + sorted(list(set(letters) - {start_token, end_token}))\n",
    "    \n",
    "tok2id = {tok: i for i, tok in enumerate(tokens)}\n",
    "id2tok = {i: tok for tok, i in tok2id.items()}\n",
    "\n",
    "n_tokens = len(tokens)\n",
    "print ('There are {} tokens',n_tokens)\n",
    "\n",
    "print('Vocabular: ' + \"\".join(tokens))"
   ]
  },
  {
   "cell_type": "code",
   "execution_count": 13,
   "metadata": {
    "collapsed": true
   },
   "outputs": [],
   "source": [
    "def to_matrix(texts, max_len=None, pad=tok2id[start_token], dtype=np.int64):\n",
    "    \"\"\"Casts a list of texts into rnn-digestable matrix\"\"\"\n",
    "    \n",
    "    if max_len:\n",
    "        max_len = max_len\n",
    "    else:\n",
    "        max_len = max(map(len, texts))\n",
    "    texts_ix = np.zeros([len(texts), max_len], dtype) + pad\n",
    "\n",
    "    for i in range(len(texts)):\n",
    "        text_ix = list(map(tok2id.get, texts[i]))\n",
    "        texts_ix[i, :len(texts[i])] = text_ix[:max_len]\n",
    "\n",
    "    return texts_ix"
   ]
  },
  {
   "cell_type": "code",
   "execution_count": 14,
   "metadata": {},
   "outputs": [
    {
     "name": "stdout",
     "output_type": "stream",
     "text": [
      "¿hello world!¡\n",
      "¿hello¡\n",
      "¿hi my name is¡\n"
     ]
    }
   ],
   "source": [
    "print('\\n'.join([\n",
    "    start_token + 'hello world!' + end_token,\n",
    "    start_token + 'hello' + end_token,\n",
    "    start_token + 'hi my name is' + end_token\n",
    "]))"
   ]
  },
  {
   "cell_type": "code",
   "execution_count": 15,
   "metadata": {},
   "outputs": [
    {
     "name": "stdout",
     "output_type": "stream",
     "text": [
      "[[ 0 76 73 80 80 83  7 91 83 86 80 72  8  1  0]\n",
      " [ 0 76 73 80 80 83  1  0  0  0  0  0  0  0  0]\n",
      " [ 0 76 77  7 81 93  7 82 69 81 73  7 77 87  1]]\n"
     ]
    }
   ],
   "source": [
    "print(to_matrix([\n",
    "    start_token + 'hello world!' + end_token,\n",
    "    start_token + 'hello' + end_token,\n",
    "    start_token + 'hi my name is' + end_token\n",
    "]))"
   ]
  },
  {
   "cell_type": "code",
   "execution_count": 16,
   "metadata": {},
   "outputs": [
    {
     "name": "stdout",
     "output_type": "stream",
     "text": [
      "[[ 0 76 73 80 80 83  7 91]\n",
      " [ 0 76 73 80 80 83  1  0]\n",
      " [ 0 76 77  7 81 93  7 82]]\n"
     ]
    }
   ],
   "source": [
    "print(to_matrix([\n",
    "    start_token + 'hello world!' + end_token,\n",
    "    start_token + 'hello' + end_token,\n",
    "    start_token + 'hi my name is' + end_token\n",
    "], max_len=8))"
   ]
  },
  {
   "cell_type": "code",
   "execution_count": 17,
   "metadata": {},
   "outputs": [
    {
     "data": {
      "text/plain": [
       "(300, 200)"
      ]
     },
     "execution_count": 17,
     "metadata": {},
     "output_type": "execute_result"
    }
   ],
   "source": [
    "# train/test split\n",
    "np.random.seed(13)\n",
    "\n",
    "def split_data(data, train_size=0.8):\n",
    "    train_index = np.random.choice(range(len(data)), size=int(train_size * len(data)), replace=False)\n",
    "    val_index = np.delete(np.arange(len(data)), train_index)\n",
    "    data = np.array(data)\n",
    "    return data[train_index][:300], data[val_index][:200]\n",
    "\n",
    "train_data, val_data = split_data(texts)\n",
    "\n",
    "len(train_data), len(val_data)"
   ]
  },
  {
   "cell_type": "markdown",
   "metadata": {},
   "source": [
    "## Char-RNN"
   ]
  },
  {
   "cell_type": "code",
   "execution_count": 133,
   "metadata": {
    "collapsed": true
   },
   "outputs": [],
   "source": [
    "class CharRNN(nn.Module):\n",
    "    def __init__(self, vocab_size, hidden_size, output_size, cell=\"rnn\", n_layers=1):\n",
    "        super(CharRNN, self).__init__()\n",
    "        self.vocab_size = vocab_size\n",
    "        self.hidden_size = hidden_size\n",
    "        self.output_size = output_size\n",
    "        self.n_layers = n_layers\n",
    "        self.cell = cell\n",
    "        \n",
    "        self.embeddings = nn.Embedding(vocab_size, hidden_size)\n",
    "        if self.cell == 'rnn':\n",
    "            self.rnn = nn.RNN(hidden_size, hidden_size, n_layers)\n",
    "        elif self.cell == 'gru':\n",
    "            self.rnn = nn.GRU(hidden_size, hidden_size, n_layers)\n",
    "        elif self.cell == 'lstm':\n",
    "            self.rnn = nn.LSTM(hidden_size, hidden_size, n_layers)\n",
    "        self.decoder = nn.Linear(hidden_size, output_size)\n",
    "        \n",
    "    def forward(self, input, hidden):\n",
    "        bs = input.size(0)\n",
    "        embedded = self.embeddings(input)\n",
    "        reordered = embedded.view(1, bs, -1)\n",
    "        out, hidden = self.rnn(reordered, hidden)\n",
    "        # ['weight_ih_l0', 'weight_hh_l0', 'bias_ih_l0', 'bias_hh_l0']\n",
    "        out = self.decoder(out)\n",
    "        return out.view(bs, -1), hidden\n",
    "\n",
    "    def init_hidden(self, batch_size):\n",
    "        if self.cell == \"lstm\":\n",
    "            return (torch.zeros(self.n_layers, batch_size, self.hidden_size),\n",
    "                    torch.zeros(self.n_layers, batch_size, self.hidden_size))\n",
    "        \n",
    "        return torch.zeros(self.n_layers, batch_size, self.hidden_size)\n",
    "    \n",
    "    def get_params(self):\n",
    "        return (self.rnn._parameters['weight_ih_l0'],\n",
    "                self.rnn._parameters['weight_hh_l0'],\n",
    "                self.rnn._parameters['bias_ih_l0'],\n",
    "                self.rnn._parameters['bias_hh_l0'])"
   ]
  },
  {
   "cell_type": "code",
   "execution_count": 134,
   "metadata": {
    "collapsed": true
   },
   "outputs": [],
   "source": [
    "batch_size = 32\n",
    "max_len = 1000\n",
    "\n",
    "texts_train = np.array(to_matrix(train_data, max_len=max_len))\n",
    "texts_val = np.array(to_matrix(val_data, max_len=max_len))\n",
    "\n",
    "dataset_train = utils.TensorDataset(torch.stack([torch.Tensor(i) for i in texts_train]))\n",
    "dataset_val = utils.TensorDataset(torch.stack([torch.Tensor(i) for i in texts_val]))\n",
    "\n",
    "train_loader = utils.DataLoader(dataset_train, batch_size=batch_size)\n",
    "val_loader = utils.DataLoader(dataset_val, batch_size=batch_size)"
   ]
  },
  {
   "cell_type": "code",
   "execution_count": 135,
   "metadata": {},
   "outputs": [
    {
     "data": {
      "text/plain": [
       "(300, 1000)"
      ]
     },
     "execution_count": 135,
     "metadata": {},
     "output_type": "execute_result"
    }
   ],
   "source": [
    "texts_train.shape"
   ]
  },
  {
   "cell_type": "code",
   "execution_count": 136,
   "metadata": {
    "collapsed": true
   },
   "outputs": [],
   "source": [
    "for x in train_loader:\n",
    "    pass"
   ]
  },
  {
   "cell_type": "code",
   "execution_count": 137,
   "metadata": {},
   "outputs": [
    {
     "name": "stdout",
     "output_type": "stream",
     "text": [
      "torch.Size([12, 1000])\n"
     ]
    }
   ],
   "source": [
    "print(x[0].shape)"
   ]
  },
  {
   "cell_type": "code",
   "execution_count": 147,
   "metadata": {},
   "outputs": [],
   "source": [
    "n_hidden = 16\n",
    "\n",
    "model = CharRNN(n_tokens, n_hidden, n_tokens).to(device)\n",
    "\n",
    "train_size = len(train_data)\n",
    "val_size = len(val_data)\n",
    "\n",
    "def set_random_seeds(seed_value=13, device='cpu'):\n",
    "    '''source https://forums.fast.ai/t/solved-reproducibility-where-is-the-randomness-coming-in/31628/5'''\n",
    "    np.random.seed(seed_value)\n",
    "    torch.manual_seed(seed_value)\n",
    "    random.seed(seed_value)\n",
    "    if device != 'cpu': \n",
    "        torch.cuda.manual_seed(seed_value)\n",
    "        torch.cuda.manual_seed_all(seed_value)\n",
    "        torch.backends.cudnn.deterministic = True\n",
    "        torch.backends.cudnn.benchmark = False\n",
    "\n",
    "\n",
    "def train(model, optimizer, epochs_n=1, batch_size=batch_size):\n",
    "    model.to(device)\n",
    "    \n",
    "    train_loss_curve = [np.nan] * epochs_n\n",
    "    val_loss_curve = [np.nan] * epochs_n\n",
    "    min_val_loss = 0\n",
    "    min_val_accuracy_epoch = 0\n",
    "\n",
    "    batches_n = (train_size - 1) // batch_size + 1\n",
    "    \n",
    "    train_weights_ih_l0 = torch.empty(epochs_n * batches_n, n_hidden, n_hidden)\n",
    "    \n",
    "    j = 0\n",
    "    \n",
    "    print(train_weights_ih_l0.shape)\n",
    "    \n",
    "    for epoch in range(epochs_n):\n",
    "        model.train()\n",
    "        train_loss_curve[epoch] = 0\n",
    "        for x in tqdm(train_loader):\n",
    "            x = x[0].to(device).long()\n",
    "            hidden = model.init_hidden(x.shape[0]).to(device)\n",
    "            loss = 0.0\n",
    "            for i in range(x.shape[1] - 1):\n",
    "                out, hidden = model.forward(x[:, i], hidden)\n",
    "                loss += F.cross_entropy(out, x[:, i + 1])\n",
    "            train_loss_curve[epoch] += loss\n",
    "            loss.backward()\n",
    "            optimizer.step()\n",
    "            \n",
    "            weight_ih_l0, _, _, _ = model.get_params()\n",
    "            train_weights_ih_l0[j] = weight_ih_l0\n",
    "            j += 1\n",
    "        \n",
    "        display.clear_output(wait=True)\n",
    "        plt.figure(figsize=(13, 6))\n",
    "        train_loss_curve[epoch] /= batches_n\n",
    "        plt.plot(train_loss_curve, label='train')\n",
    "\n",
    "        model.eval()\n",
    "        \n",
    "        val_loss_curve[epoch] = 0\n",
    "        for x in tqdm(val_loader):\n",
    "            x = x[0].to(device).long()\n",
    "            hidden = model.init_hidden(x.shape[0]).to(device)\n",
    "            loss = 0.0\n",
    "            for i in range(x.shape[1] - 1):\n",
    "                out, hidden = model.forward(x[:, i], hidden)\n",
    "                loss += F.cross_entropy(out, x[:, i + 1])\n",
    "            val_loss_curve[epoch] += loss\n",
    "        \n",
    "        val_loss_curve[epoch] /= (val_size - 1) // batch_size + 1\n",
    "        plt.plot(val_loss_curve, label='val')\n",
    "        plt.title('Loss: train {:.4f}, val {:.4f}'.format(train_loss_curve[epoch], val_loss_curve[epoch]))\n",
    "        plt.legend(loc='best')\n",
    "\n",
    "        plt.tight_layout()\n",
    "        plt.show()\n",
    "    return train_weights_ih_l0"
   ]
  },
  {
   "cell_type": "code",
   "execution_count": 148,
   "metadata": {},
   "outputs": [
    {
     "name": "stderr",
     "output_type": "stream",
     "text": [
      "100%|████████████████████████████████████████████████████████████████████████████████████| 7/7 [00:05<00:00,  1.20it/s]\n"
     ]
    },
    {
     "data": {
      "image/png": "[encoded data removed]",
      "text/plain": [
       "<Figure size 936x432 with 1 Axes>"
      ]
     },
     "metadata": {},
     "output_type": "display_data"
    }
   ],
   "source": [
    "set_random_seeds(device=device)\n",
    "opt = torch.optim.RMSprop(model.parameters(), lr=0.001)\n",
    "train_weights_ih_l0 = train(model, opt)"
   ]
  },
  {
   "cell_type": "code",
   "execution_count": 168,
   "metadata": {},
   "outputs": [],
   "source": [
    "train_weights_ih_l0_np = train_weights_ih_l0.detach().numpy()\n",
    "last_weights_ih_l0 = train_weights_ih_l0_np[-1]"
   ]
  },
  {
   "cell_type": "code",
   "execution_count": 169,
   "metadata": {
    "collapsed": true
   },
   "outputs": [],
   "source": [
    "import matplotlib.pyplot as plt\n",
    "import seaborn as sns\n",
    "\n",
    "%matplotlib inline"
   ]
  },
  {
   "cell_type": "code",
   "execution_count": 171,
   "metadata": {},
   "outputs": [
    {
     "data": {
      "text/plain": [
       "<matplotlib.axes._subplots.AxesSubplot at 0x1f3a10a30f0>"
      ]
     },
     "execution_count": 171,
     "metadata": {},
     "output_type": "execute_result"
    },
    {
     "data": {
      "image/png": "[encoded data removed]",
      "text/plain": [
       "<Figure size 576x576 with 2 Axes>"
      ]
     },
     "metadata": {},
     "output_type": "display_data"
    }
   ],
   "source": [
    "fig, ax = plt.subplots(figsize=(8,8))\n",
    "sns.heatmap(last_weights_ih_l0, ax=ax, cmap='RdBu_r')"
   ]
  }
 ],
 "metadata": {
  "kernelspec": {
   "display_name": "Python 3",
   "language": "python",
   "name": "python3"
  },
  "language_info": {
   "codemirror_mode": {
    "name": "ipython",
    "version": 3
   },
   "file_extension": ".py",
   "mimetype": "text/x-python",
   "name": "python",
   "nbconvert_exporter": "python",
   "pygments_lexer": "ipython3",
   "version": "3.6.3"
  }
 },
 "nbformat": 4,
 "nbformat_minor": 2
}
