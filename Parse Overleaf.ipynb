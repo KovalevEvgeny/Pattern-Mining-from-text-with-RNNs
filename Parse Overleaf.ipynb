{
 "cells": [
  {
   "cell_type": "code",
   "execution_count": 153,
   "metadata": {},
   "outputs": [],
   "source": [
    "import requests\n",
    "from bs4 import BeautifulSoup\n",
    "import numpy as np"
   ]
  },
  {
   "cell_type": "code",
   "execution_count": 154,
   "metadata": {},
   "outputs": [],
   "source": [
    "documents = []\n",
    "pages = []\n",
    "for idx in range(43):\n",
    "    url = \"https://www.overleaf.com/articles/tagged/math/page/{}\".format(idx + 1)\n",
    "    r = requests.get(url)\n",
    "    if (r.status_code == 200):\n",
    "        soup = BeautifulSoup(r.content, \"html.parser\")\n",
    "        pages += [soup]\n",
    "        articles = soup.find_all('div', class_='template-thumbnail')\n",
    "        for article in articles:\n",
    "            art = requests.get(\"https://www.overleaf.com\" + article.a.get_attribute_list(\"href\")[0])\n",
    "            if (art.status_code == 200):\n",
    "                soup_art = BeautifulSoup(art.content, \"html.parser\")\n",
    "                documents += [soup_art.find('script', id=\"viewSourceModalTemplate\")]\n",
    "            else:\n",
    "                print(\"Get error article:\", article)\n",
    "    else:\n",
    "        print(\"Get error page:\", idx)"
   ]
  },
  {
   "cell_type": "code",
   "execution_count": 172,
   "metadata": {},
   "outputs": [
    {
     "name": "stdout",
     "output_type": "stream",
     "text": [
      "450\n"
     ]
    }
   ],
   "source": [
    "print(documents[200].get_text().find(\"\\documentclass\"))"
   ]
  },
  {
   "cell_type": "code",
   "execution_count": 175,
   "metadata": {},
   "outputs": [],
   "source": [
    "latex_documents = []\n",
    "for doc in documents:\n",
    "    if doc is None:\n",
    "        continue\n",
    "    begin = doc.get_text().find(\"\\documentclass\")\n",
    "    end = doc.get_text().find(\"\\end{document}\") + 14\n",
    "    latex_documents += [doc.get_text()[begin:end]]"
   ]
  },
  {
   "cell_type": "code",
   "execution_count": 185,
   "metadata": {},
   "outputs": [],
   "source": [
    "import pandas as pd\n",
    "\n",
    "df = pd.DataFrame(latex_documents, columns=['content'])\n",
    "df.to_csv(\"LaTeX_articles.csv\", index=False)"
   ]
  }
 ],
 "metadata": {
  "kernelspec": {
   "display_name": "Python 3",
   "language": "python",
   "name": "python3"
  },
  "language_info": {
   "codemirror_mode": {
    "name": "ipython",
    "version": 3
   },
   "file_extension": ".py",
   "mimetype": "text/x-python",
   "name": "python",
   "nbconvert_exporter": "python",
   "pygments_lexer": "ipython3",
   "version": "3.6.7"
  }
 },
 "nbformat": 4,
 "nbformat_minor": 2
}
